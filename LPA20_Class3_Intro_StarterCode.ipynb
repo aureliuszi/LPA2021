{
  "nbformat": 4,
  "nbformat_minor": 0,
  "metadata": {
    "kernelspec": {
      "display_name": "R",
      "language": "R",
      "name": "ir"
    },
    "language_info": {
      "codemirror_mode": "r",
      "file_extension": ".r",
      "mimetype": "text/x-r-source",
      "name": "R",
      "pygments_lexer": "r",
      "version": "3.4.4"
    },
    "colab": {
      "name": "LPA20_Class3_Intro_StarterCode.ipynb",
      "provenance": [],
      "collapsed_sections": [],
      "include_colab_link": true
    }
  },
  "cells": [
    {
      "cell_type": "markdown",
      "metadata": {
        "id": "view-in-github",
        "colab_type": "text"
      },
      "source": [
        "<a href=\"https://colab.research.google.com/github/aureliuszi/LPA2021/blob/master/LPA20_Class3_Intro_StarterCode.ipynb\" target=\"_parent\"><img src=\"https://colab.research.google.com/assets/colab-badge.svg\" alt=\"Open In Colab\"/></a>"
      ]
    },
    {
      "cell_type": "markdown",
      "metadata": {
        "id": "VmD3_ieMQlbX"
      },
      "source": [
        "# Class 3 Starter Code"
      ]
    },
    {
      "cell_type": "markdown",
      "metadata": {
        "id": "VckanXYPQlba"
      },
      "source": [
        "### Purpose:     \n",
        "The goal of this notebook is to provide students with R code to help them learn some basic functionality when running R in a jupyter notebook. Jupyter notebooks are useful for combining normal text with R code and output (or other types of code, such as Python). For example, you can use jupyter notebooks when creating reports that contain analyses, or when describing and documenting your analyses so others can understand what you've done.\n",
        "\n",
        "This notebook demonstrates how to use R using a simplified version of data from the Pilgrim Bank (A) case. We will use the full version of the data from this case in tomorrow's class (Class 4).    \n",
        "\n",
        "The Pilgrim Bank (A) case contains data about bank customers, with each row of data representing an individual customer. The dataset used in the current notebook contains only two variables for a subset of Pilgrim Bank customers. These two variables are: \n",
        "* profit99: Annual Profit in 1999 for each customer in dollars\n",
        "* tenure99: The number of years each individual has been a customer of Pilgrim Bank\n",
        "\n",
        "### Jupyter Notebooks:\n",
        "Jupyter Notebooks are organized into **cells**. There are two primary cell types in Jupyter: **code cells** and **markdown cells**.      \n",
        "\n",
        "The text you're reading now is in a **markdown cell**. Markdown cells contain human language text and allow you to intersperse your R code with written commentary. To create a new markdown cell, go to the menu above, click the \"+\" button, and then use the nearby dropdown menu to switch from \"Code\" to \"Markdown\". After entering text in a markdown cell, you can click the \"Run\" button above to make your text appear nicely formatted and easy to read, just like this cell you're reading now.         \n",
        "\n",
        "Below you'll also see slightly shaded cells with \"In[ ]\" to the left of them. These are **code cells**. The \"In[ ]\" before a code cell tells you this is code input. When you run a code cell, the code's corresponding output will appear directly below your code. You can run a cell by putting your cursor in the code cell and then clicking the \"Run\" button in the menu above (or by hitting \"Shift + Enter\" (Mac) or \"Ctrl + Enter\" (PC)). You can edit and run the code in a code cell as many times as you'd like, and the new output will simply replace the previous output below the code. This feature allows you to try different commands, models, or other analyses and immediately see the output as you go. To add a new code cell, select the \"+\" button above, which by default adds a code cell wherever the cursor is in the notebook. \n",
        "\n",
        "You can insert a new cell on any line using any of three methods:\n",
        "\n",
        "* by clicking \"+\" in the menu above\n",
        "* by clicking the Insert option in the menu above\n",
        "* by using the keyboard shortcut \"Esc + A\" or \"Esc + B\" to insert a cell above or below respectively\n",
        "\n",
        "If you're interested in learning more about using jupyter notebook shortcuts, click \"Help\" in the menu above and navigate to \"Keyboard Shortcuts\". For additional information, here is a great resource: https://towardsdatascience.com/jypyter-notebook-shortcuts-bf0101a98330\n",
        "\n",
        "### Class Assignment:     \n",
        "Read through this jupyter notebook and click the \"Run\" button in the menu above for each code cell to see the output of each R command."
      ]
    },
    {
      "cell_type": "markdown",
      "metadata": {
        "id": "9beAG9x2Qlbb"
      },
      "source": [
        "## Section 0: Load data         \n",
        "Load the data in this project into R by clicking on the code cell immediately below, and then clicking \"Run\" in the menu above. Note that after running this command, no output will appear until you run the subsequent code cells."
      ]
    },
    {
      "cell_type": "code",
      "metadata": {
        "id": "PiFpbYXfQuzn",
        "outputId": "3c6a65b8-c4e1-4ead-b2c8-f641d1375113",
        "colab": {
          "base_uri": "https://localhost:8080/"
        }
      },
      "source": [
        "install.packages(\"RCurl\")\n",
        "library(RCurl)\n",
        "library(foreign)\n",
        "url_pilgrim <- \"https://raw.githubusercontent.com/msingell/peopleanalytics/master/LPA20_Class3_Intro_Data.csv\"\n",
        "df_pilgrim_url <- getURL(url_pilgrim)\n",
        "df_pilgrim <- read.csv(textConnection(df_pilgrim_url))"
      ],
      "execution_count": 1,
      "outputs": [
        {
          "output_type": "stream",
          "text": [
            "Installing package into ‘/usr/local/lib/R/site-library’\n",
            "(as ‘lib’ is unspecified)\n",
            "\n",
            "also installing the dependency ‘bitops’\n",
            "\n",
            "\n"
          ],
          "name": "stderr"
        }
      ]
    },
    {
      "cell_type": "markdown",
      "metadata": {
        "id": "ELoNwVDcQlbm"
      },
      "source": [
        "Note that the command above includes an \"assignment operator\" that looks like a backwards arrow ( <- ). This assigns the data to the right of the operator to the new object (df_pilgrim) to the left of the operator.\n",
        "\n",
        "After running the cell above, a dataframe called df_pilgrim should now be loaded in your R Environment. You can check to see the variables in your dataframe by loading the first few lines of the dataframe using the 'head' command. This command will display the first six observations of each variable. It is best practice in jupyter notebooks to use the 'head' command after you have loaded a new dataframe in order to ensure the dataset has been loaded correctly. "
      ]
    },
    {
      "cell_type": "code",
      "metadata": {
        "id": "PjosnMr3Qlbo"
      },
      "source": [
        "head(df_pilgrim)"
      ],
      "execution_count": null,
      "outputs": []
    },
    {
      "cell_type": "markdown",
      "metadata": {
        "id": "R8AUPlghQlbx"
      },
      "source": [
        "Another useful way to view the structure of the dataframe is with the 'str' command. Note that this output provides the variable type, for example integers and numeric variables (the latter have decimal places). "
      ]
    },
    {
      "cell_type": "code",
      "metadata": {
        "id": "DII5xyWmQlby"
      },
      "source": [
        "str(df_pilgrim)"
      ],
      "execution_count": null,
      "outputs": []
    },
    {
      "cell_type": "markdown",
      "metadata": {
        "id": "dHzwVfDUQlb4"
      },
      "source": [
        "## Section 1: Summarize data            \n",
        "Run a \"summary\" command to see basic information about the data.      "
      ]
    },
    {
      "cell_type": "code",
      "metadata": {
        "id": "7ESkVMS_Qlb6"
      },
      "source": [
        "summary(df_pilgrim)"
      ],
      "execution_count": null,
      "outputs": []
    },
    {
      "cell_type": "markdown",
      "metadata": {
        "id": "8qMJLyAiQlcD"
      },
      "source": [
        "There are many simple commands to quickly describe a single variable in R. Examples include mean, min, max, sd, range, and quantile. To run a command on a single variable, first specify the command, then in parentheses specify the dataframe, then type \"$\" to connect the dataframe to a subsequent variable, and then type the variable name.        \n",
        "\n",
        "In general, to reference a single variable in R:     \n",
        "* dataframe$variable_name\n",
        "\n",
        "Use this command to find the mean of profit99:"
      ]
    },
    {
      "cell_type": "code",
      "metadata": {
        "id": "6KFYunx5QlcF"
      },
      "source": [
        "mean(df_pilgrim$profit99)"
      ],
      "execution_count": null,
      "outputs": []
    },
    {
      "cell_type": "markdown",
      "metadata": {
        "id": "DJ5InCBhQlcN"
      },
      "source": [
        "## Section 2: Visualize single variables\n",
        "Create a histogram of each variable in the dataset.      "
      ]
    },
    {
      "cell_type": "code",
      "metadata": {
        "id": "I5NzqJRvQlcO"
      },
      "source": [
        "hist(df_pilgrim$profit99)"
      ],
      "execution_count": null,
      "outputs": []
    },
    {
      "cell_type": "code",
      "metadata": {
        "id": "QYUmeTg3QlcZ"
      },
      "source": [
        "hist(df_pilgrim$tenure99)"
      ],
      "execution_count": null,
      "outputs": []
    },
    {
      "cell_type": "markdown",
      "metadata": {
        "id": "mzuiQLcDQlce"
      },
      "source": [
        "## Section 3: Plot two variables         \n",
        "Create a scatterplot.    "
      ]
    },
    {
      "cell_type": "code",
      "metadata": {
        "id": "Y0b_1HcCQlcf"
      },
      "source": [
        "plot(df_pilgrim$tenure99, df_pilgrim$profit99)"
      ],
      "execution_count": null,
      "outputs": []
    },
    {
      "cell_type": "markdown",
      "metadata": {
        "id": "vzxhh-VFQlck"
      },
      "source": [
        "## Section 4: Correlate two variables        \n",
        "Find the correlation between the variables in the dataset.  "
      ]
    },
    {
      "cell_type": "code",
      "metadata": {
        "id": "CEWutb7xQlcl"
      },
      "source": [
        "cor(df_pilgrim)"
      ],
      "execution_count": null,
      "outputs": []
    },
    {
      "cell_type": "markdown",
      "metadata": {
        "id": "UNU_LWDvQlcq"
      },
      "source": [
        "## Section 5: Run a regression (also called a linear model)          \n",
        "Run a linear model using profit99 as the outcome variable (or dependent variable) and tenure99 as the predictor variable (or independent variable).    "
      ]
    },
    {
      "cell_type": "code",
      "metadata": {
        "id": "L34gFVX5Qlcu"
      },
      "source": [
        "lm(profit99 ~ tenure99, data = df_pilgrim)"
      ],
      "execution_count": null,
      "outputs": []
    },
    {
      "cell_type": "markdown",
      "metadata": {
        "id": "DFwfq3CAQlc3"
      },
      "source": [
        "Run the linear model again, this time using an assignment operator to save the output to a new data object called \"model_1\". Note that you will not see any output from model_1 until you call for a summary of this output in the subsequent cell."
      ]
    },
    {
      "cell_type": "code",
      "metadata": {
        "id": "TYsEV-LhQlc4"
      },
      "source": [
        "model_1 <- lm(profit99 ~ tenure99, data = df_pilgrim)"
      ],
      "execution_count": null,
      "outputs": []
    },
    {
      "cell_type": "markdown",
      "metadata": {
        "id": "9G8Yqz2RQlc8"
      },
      "source": [
        "View the output of model_1 by \"calling\" it with the summary command:"
      ]
    },
    {
      "cell_type": "code",
      "metadata": {
        "id": "6ALr49hcQlc9"
      },
      "source": [
        "summary(model_1)"
      ],
      "execution_count": null,
      "outputs": []
    },
    {
      "cell_type": "markdown",
      "metadata": {
        "id": "TCH6mdK8QldB"
      },
      "source": [
        "## Section 6: Plot two variables and add a regression line           \n",
        "Add a regression line to a scatterplot of data. "
      ]
    },
    {
      "cell_type": "code",
      "metadata": {
        "id": "r8wfSpvIQldC"
      },
      "source": [
        "plot(df_pilgrim$tenure99, df_pilgrim$profit99)\n",
        "abline(lm(profit99 ~ tenure99, data = df_pilgrim))"
      ],
      "execution_count": null,
      "outputs": []
    },
    {
      "cell_type": "code",
      "metadata": {
        "id": "7jjjc0IwZYa1"
      },
      "source": [
        ""
      ],
      "execution_count": null,
      "outputs": []
    },
    {
      "cell_type": "markdown",
      "metadata": {
        "id": "mEcLvWqPQldJ"
      },
      "source": [
        "## Section 7: Write your own code           \n",
        "Try typing \"boxplot(df_pilgrim$profit99)\" in the code cell below, and running it. "
      ]
    },
    {
      "cell_type": "code",
      "metadata": {
        "id": "Fv6QU1rxQldK"
      },
      "source": [
        ""
      ],
      "execution_count": null,
      "outputs": []
    },
    {
      "cell_type": "markdown",
      "metadata": {
        "id": "3nN7fed0QldO"
      },
      "source": [
        "Feel free to try other commands and adding cells to get a feel for how a Jupyter notebook works. We will discuss this notebook in Wednesday's class.  "
      ]
    },
    {
      "cell_type": "code",
      "metadata": {
        "id": "n-IMoChrQldQ"
      },
      "source": [
        ""
      ],
      "execution_count": null,
      "outputs": []
    }
  ]
}