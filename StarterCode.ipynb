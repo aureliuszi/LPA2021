{
  "nbformat": 4,
  "nbformat_minor": 0,
  "metadata": {
    "kernelspec": {
      "display_name": "R",
      "language": "R",
      "name": "ir"
    },
    "language_info": {
      "codemirror_mode": "r",
      "file_extension": ".r",
      "mimetype": "text/x-r-source",
      "name": "R",
      "pygments_lexer": "r",
      "version": "3.4.4"
    },
    "colab": {
      "name": "StarterCode.ipynb",
      "provenance": [],
      "collapsed_sections": [],
      "include_colab_link": true
    }
  },
  "cells": [
    {
      "cell_type": "markdown",
      "metadata": {
        "id": "view-in-github",
        "colab_type": "text"
      },
      "source": [
        "<a href=\"https://colab.research.google.com/github/aureliuszi/LPA2021/blob/master/StarterCode.ipynb\" target=\"_parent\"><img src=\"https://colab.research.google.com/assets/colab-badge.svg\" alt=\"Open In Colab\"/></a>"
      ]
    },
    {
      "cell_type": "markdown",
      "metadata": {
        "id": "VmD3_ieMQlbX"
      },
      "source": [
        "# Class 3 Starter Code"
      ]
    },
    {
      "cell_type": "markdown",
      "metadata": {
        "id": "VckanXYPQlba"
      },
      "source": [
        "### Purpose:     \n",
        "The goal of this notebook is to provide students with R code to help them learn some basic functionality when running R in a jupyter notebook. Jupyter notebooks are useful for combining normal text with R code and output (or other types of code, such as Python). For example, you can use jupyter notebooks when creating reports that contain analyses, or when describing and documenting your analyses so others can understand what you've done.\n",
        "\n",
        "This notebook demonstrates how to use R using a simplified version of data from the Pilgrim Bank (A) case. We will use the full version of the data from this case in tomorrow's class (Class 4).    \n",
        "\n",
        "The Pilgrim Bank (A) case contains data about bank customers, with each row of data representing an individual customer. The dataset used in the current notebook contains only two variables for a subset of Pilgrim Bank customers. These two variables are: \n",
        "* profit99: Annual Profit in 1999 for each customer in dollars\n",
        "* tenure99: The number of years each individual has been a customer of Pilgrim Bank\n",
        "\n",
        "### Jupyter Notebooks:\n",
        "Jupyter Notebooks are organized into **cells**. There are two primary cell types in Jupyter: **code cells** and **markdown cells**.      \n",
        "\n",
        "The text you're reading now is in a **markdown cell**. Markdown cells contain human language text and allow you to intersperse your R code with written commentary. To create a new markdown cell, go to the menu above, click the \"+\" button, and then use the nearby dropdown menu to switch from \"Code\" to \"Markdown\". After entering text in a markdown cell, you can click the \"Run\" button above to make your text appear nicely formatted and easy to read, just like this cell you're reading now.         \n",
        "\n",
        "Below you'll also see slightly shaded cells with \"In[ ]\" to the left of them. These are **code cells**. The \"In[ ]\" before a code cell tells you this is code input. When you run a code cell, the code's corresponding output will appear directly below your code. You can run a cell by putting your cursor in the code cell and then clicking the \"Run\" button in the menu above (or by hitting \"Shift + Enter\" (Mac) or \"Ctrl + Enter\" (PC)). You can edit and run the code in a code cell as many times as you'd like, and the new output will simply replace the previous output below the code. This feature allows you to try different commands, models, or other analyses and immediately see the output as you go. To add a new code cell, select the \"+\" button above, which by default adds a code cell wherever the cursor is in the notebook. \n",
        "\n",
        "You can insert a new cell on any line using any of three methods:\n",
        "\n",
        "* by clicking \"+\" in the menu above\n",
        "* by clicking the Insert option in the menu above\n",
        "* by using the keyboard shortcut \"Esc + A\" or \"Esc + B\" to insert a cell above or below respectively\n",
        "\n",
        "If you're interested in learning more about using jupyter notebook shortcuts, click \"Help\" in the menu above and navigate to \"Keyboard Shortcuts\". For additional information, here is a great resource: https://towardsdatascience.com/jypyter-notebook-shortcuts-bf0101a98330\n",
        "\n",
        "### Class Assignment:     \n",
        "Read through this jupyter notebook and click the \"Run\" button in the menu above for each code cell to see the output of each R command."
      ]
    },
    {
      "cell_type": "markdown",
      "metadata": {
        "id": "9beAG9x2Qlbb"
      },
      "source": [
        "## Section 0: Load data         \n",
        "Load the data in this project into R by clicking on the code cell immediately below, and then clicking \"Run\" in the menu above. Note that after running this command, no output will appear until you run the subsequent code cells."
      ]
    },
    {
      "cell_type": "code",
      "metadata": {
        "id": "PiFpbYXfQuzn",
        "outputId": "ab5c7aad-0ba2-467f-89b8-f1a18411430a",
        "colab": {
          "base_uri": "https://localhost:8080/"
        }
      },
      "source": [
        "install.packages(\"RCurl\")\n",
        "library(RCurl)\n",
        "library(foreign)\n",
        "library(dplyr)\n",
        "\n",
        "url_pilgrim <- \"https://raw.githubusercontent.com/aureliuszi/LPA2021/master/Class3/data.csv\"\n",
        "df_pilgrim_url <- getURL(url_pilgrim)\n",
        "df_pilgrim <- read.csv(textConnection(df_pilgrim_url))"
      ],
      "execution_count": null,
      "outputs": [
        {
          "output_type": "stream",
          "text": [
            "Installing package into ‘/usr/local/lib/R/site-library’\n",
            "(as ‘lib’ is unspecified)\n",
            "\n",
            "\n",
            "Attaching package: ‘dplyr’\n",
            "\n",
            "\n",
            "The following objects are masked from ‘package:stats’:\n",
            "\n",
            "    filter, lag\n",
            "\n",
            "\n",
            "The following objects are masked from ‘package:base’:\n",
            "\n",
            "    intersect, setdiff, setequal, union\n",
            "\n",
            "\n"
          ],
          "name": "stderr"
        }
      ]
    },
    {
      "cell_type": "markdown",
      "metadata": {
        "id": "ELoNwVDcQlbm"
      },
      "source": [
        "Note that the command above includes an \"assignment operator\" that looks like a backwards arrow ( <- ). This assigns the data to the right of the operator to the new object (df_pilgrim) to the left of the operator.\n",
        "\n",
        "After running the cell above, a dataframe called df_pilgrim should now be loaded in your R Environment. You can check to see the variables in your dataframe by loading the first few lines of the dataframe using the 'head' command. This command will display the first six observations of each variable. It is best practice in jupyter notebooks to use the 'head' command after you have loaded a new dataframe in order to ensure the dataset has been loaded correctly. "
      ]
    },
    {
      "cell_type": "code",
      "metadata": {
        "id": "PjosnMr3Qlbo",
        "outputId": "1797d4db-d397-4bfd-d2da-9bafaa9d890b",
        "colab": {
          "base_uri": "https://localhost:8080/",
          "height": 204
        }
      },
      "source": [
        "head(df_pilgrim)"
      ],
      "execution_count": null,
      "outputs": [
        {
          "output_type": "display_data",
          "data": {
            "text/plain": [
              "  profit99 tenure99\n",
              "1  703     10.25   \n",
              "2  490      5.58   \n",
              "3  460     16.16   \n",
              "4  496     14.66   \n",
              "5  -29     12.08   \n",
              "6 -186     20.83   "
            ],
            "text/latex": "A data.frame: 6 × 2\n\\begin{tabular}{r|ll}\n  & profit99 & tenure99\\\\\n  & <int> & <dbl>\\\\\n\\hline\n\t1 &  703 & 10.25\\\\\n\t2 &  490 &  5.58\\\\\n\t3 &  460 & 16.16\\\\\n\t4 &  496 & 14.66\\\\\n\t5 &  -29 & 12.08\\\\\n\t6 & -186 & 20.83\\\\\n\\end{tabular}\n",
            "text/markdown": "\nA data.frame: 6 × 2\n\n| <!--/--> | profit99 &lt;int&gt; | tenure99 &lt;dbl&gt; |\n|---|---|---|\n| 1 |  703 | 10.25 |\n| 2 |  490 |  5.58 |\n| 3 |  460 | 16.16 |\n| 4 |  496 | 14.66 |\n| 5 |  -29 | 12.08 |\n| 6 | -186 | 20.83 |\n\n",
            "text/html": [
              "<table>\n",
              "<caption>A data.frame: 6 × 2</caption>\n",
              "<thead>\n",
              "\t<tr><th></th><th scope=col>profit99</th><th scope=col>tenure99</th></tr>\n",
              "\t<tr><th></th><th scope=col>&lt;int&gt;</th><th scope=col>&lt;dbl&gt;</th></tr>\n",
              "</thead>\n",
              "<tbody>\n",
              "\t<tr><th scope=row>1</th><td> 703</td><td>10.25</td></tr>\n",
              "\t<tr><th scope=row>2</th><td> 490</td><td> 5.58</td></tr>\n",
              "\t<tr><th scope=row>3</th><td> 460</td><td>16.16</td></tr>\n",
              "\t<tr><th scope=row>4</th><td> 496</td><td>14.66</td></tr>\n",
              "\t<tr><th scope=row>5</th><td> -29</td><td>12.08</td></tr>\n",
              "\t<tr><th scope=row>6</th><td>-186</td><td>20.83</td></tr>\n",
              "</tbody>\n",
              "</table>\n"
            ]
          },
          "metadata": {
            "tags": []
          }
        }
      ]
    },
    {
      "cell_type": "markdown",
      "metadata": {
        "id": "R8AUPlghQlbx"
      },
      "source": [
        "Another useful way to view the structure of the dataframe is with the 'str' command. Note that this output provides the variable type, for example integers and numeric variables (the latter have decimal places). "
      ]
    },
    {
      "cell_type": "code",
      "metadata": {
        "id": "DII5xyWmQlby",
        "outputId": "fad5d4bb-1b69-4875-c6eb-96e35d58143d",
        "colab": {
          "base_uri": "https://localhost:8080/"
        }
      },
      "source": [
        "str(df_pilgrim)"
      ],
      "execution_count": null,
      "outputs": [
        {
          "output_type": "stream",
          "text": [
            "'data.frame':\t161 obs. of  2 variables:\n",
            " $ profit99: int  703 490 460 496 -29 -186 201 -31 -64 -4 ...\n",
            " $ tenure99: num  10.25 5.58 16.16 14.66 12.08 ...\n"
          ],
          "name": "stdout"
        }
      ]
    },
    {
      "cell_type": "markdown",
      "metadata": {
        "id": "dHzwVfDUQlb4"
      },
      "source": [
        "## Section 1: Summarize data            \n",
        "Run a \"summary\" command to see basic information about the data.      "
      ]
    },
    {
      "cell_type": "code",
      "metadata": {
        "id": "7ESkVMS_Qlb6",
        "outputId": "7670aa6d-ac0c-49c3-ae5b-13d00b18bfb2",
        "colab": {
          "base_uri": "https://localhost:8080/",
          "height": 136
        }
      },
      "source": [
        "summary(df_pilgrim)"
      ],
      "execution_count": null,
      "outputs": [
        {
          "output_type": "display_data",
          "data": {
            "text/plain": [
              "    profit99         tenure99    \n",
              " Min.   :-220.0   Min.   : 0.25  \n",
              " 1st Qu.:  24.0   1st Qu.: 6.41  \n",
              " Median : 220.0   Median :11.58  \n",
              " Mean   : 316.5   Mean   :12.24  \n",
              " 3rd Qu.: 549.0   3rd Qu.:17.91  \n",
              " Max.   :1761.0   Max.   :31.33  "
            ]
          },
          "metadata": {
            "tags": []
          }
        }
      ]
    },
    {
      "cell_type": "markdown",
      "metadata": {
        "id": "8qMJLyAiQlcD"
      },
      "source": [
        "There are many simple commands to quickly describe a single variable in R. Examples include mean, min, max, sd, range, and quantile. To run a command on a single variable, first specify the command, then in parentheses specify the dataframe, then type \"$\" to connect the dataframe to a subsequent variable, and then type the variable name.        \n",
        "\n",
        "In general, to reference a single variable in R:     \n",
        "* dataframe$variable_name\n",
        "\n",
        "Use this command to find the mean of profit99:"
      ]
    },
    {
      "cell_type": "code",
      "metadata": {
        "id": "6KFYunx5QlcF",
        "outputId": "dbdb8fc7-7455-470a-84f4-538f648ad305",
        "colab": {
          "base_uri": "https://localhost:8080/",
          "height": 34
        }
      },
      "source": [
        "mean(df_pilgrim$profit99)"
      ],
      "execution_count": null,
      "outputs": [
        {
          "output_type": "display_data",
          "data": {
            "text/plain": [
              "[1] 316.5031"
            ],
            "text/latex": "316.503105590062",
            "text/markdown": "316.503105590062",
            "text/html": [
              "316.503105590062"
            ]
          },
          "metadata": {
            "tags": []
          }
        }
      ]
    },
    {
      "cell_type": "markdown",
      "metadata": {
        "id": "DJ5InCBhQlcN"
      },
      "source": [
        "## Section 2: Visualize single variables\n",
        "Create a histogram of each variable in the dataset.      "
      ]
    },
    {
      "cell_type": "code",
      "metadata": {
        "id": "I5NzqJRvQlcO",
        "outputId": "59a06bd7-7305-4b1d-a1e8-8800c45786c2",
        "colab": {
          "base_uri": "https://localhost:8080/",
          "height": 437
        }
      },
      "source": [
        "hist(df_pilgrim$profit99)"
      ],
      "execution_count": null,
      "outputs": [
        {
          "output_type": "display_data",
          "data": {
            "image/png": "[encoded data removed]",
            "text/plain": [
              "Plot with title “Histogram of df_pilgrim$profit99”"
            ]
          },
          "metadata": {
            "tags": [],
            "image/png": {
              "width": 420,
              "height": 420
            }
          }
        }
      ]
    },
    {
      "cell_type": "code",
      "metadata": {
        "id": "QYUmeTg3QlcZ",
        "outputId": "73524519-2597-4d97-db1d-462a3d5eb60d",
        "colab": {
          "base_uri": "https://localhost:8080/",
          "height": 437
        }
      },
      "source": [
        "hist(df_pilgrim$tenure99)"
      ],
      "execution_count": null,
      "outputs": [
        {
          "output_type": "display_data",
          "data": {
            "image/png": "[encoded data removed]",
            "text/plain": [
              "Plot with title “Histogram of df_pilgrim$tenure99”"
            ]
          },
          "metadata": {
            "tags": [],
            "image/png": {
              "width": 420,
              "height": 420
            }
          }
        }
      ]
    },
    {
      "cell_type": "markdown",
      "metadata": {
        "id": "mzuiQLcDQlce"
      },
      "source": [
        "## Section 3: Plot two variables         \n",
        "Create a scatterplot.    "
      ]
    },
    {
      "cell_type": "code",
      "metadata": {
        "id": "Y0b_1HcCQlcf",
        "outputId": "3f8871dd-4d03-498b-a3c9-535048c928c7",
        "colab": {
          "base_uri": "https://localhost:8080/",
          "height": 437
        }
      },
      "source": [
        "plot(df_pilgrim$tenure99, df_pilgrim$profit99)"
      ],
      "execution_count": null,
      "outputs": [
        {
          "output_type": "display_data",
          "data": {
            "image/png": "[encoded data removed]",
            "text/plain": [
              "plot without title"
            ]
          },
          "metadata": {
            "tags": [],
            "image/png": {
              "width": 420,
              "height": 420
            }
          }
        }
      ]
    },
    {
      "cell_type": "markdown",
      "metadata": {
        "id": "vzxhh-VFQlck"
      },
      "source": [
        "## Section 4: Correlate two variables        \n",
        "Find the correlation between the variables in the dataset.  "
      ]
    },
    {
      "cell_type": "code",
      "metadata": {
        "id": "CEWutb7xQlcl",
        "outputId": "0129e7f3-1fa2-431d-fb40-52d71c2b56a2",
        "colab": {
          "base_uri": "https://localhost:8080/",
          "height": 99
        }
      },
      "source": [
        "cor(df_pilgrim)"
      ],
      "execution_count": null,
      "outputs": [
        {
          "output_type": "display_data",
          "data": {
            "text/plain": [
              "         profit99  tenure99 \n",
              "profit99 1.0000000 0.2440388\n",
              "tenure99 0.2440388 1.0000000"
            ],
            "text/latex": "A matrix: 2 × 2 of type dbl\n\\begin{tabular}{r|ll}\n  & profit99 & tenure99\\\\\n\\hline\n\tprofit99 & 1.0000000 & 0.2440388\\\\\n\ttenure99 & 0.2440388 & 1.0000000\\\\\n\\end{tabular}\n",
            "text/markdown": "\nA matrix: 2 × 2 of type dbl\n\n| <!--/--> | profit99 | tenure99 |\n|---|---|---|\n| profit99 | 1.0000000 | 0.2440388 |\n| tenure99 | 0.2440388 | 1.0000000 |\n\n",
            "text/html": [
              "<table>\n",
              "<caption>A matrix: 2 × 2 of type dbl</caption>\n",
              "<thead>\n",
              "\t<tr><th></th><th scope=col>profit99</th><th scope=col>tenure99</th></tr>\n",
              "</thead>\n",
              "<tbody>\n",
              "\t<tr><th scope=row>profit99</th><td>1.0000000</td><td>0.2440388</td></tr>\n",
              "\t<tr><th scope=row>tenure99</th><td>0.2440388</td><td>1.0000000</td></tr>\n",
              "</tbody>\n",
              "</table>\n"
            ]
          },
          "metadata": {
            "tags": []
          }
        }
      ]
    },
    {
      "cell_type": "markdown",
      "metadata": {
        "id": "UNU_LWDvQlcq"
      },
      "source": [
        "## Section 5: Run a regression (also called a linear model)          \n",
        "Run a linear model using profit99 as the outcome variable (or dependent variable) and tenure99 as the predictor variable (or independent variable).    "
      ]
    },
    {
      "cell_type": "code",
      "metadata": {
        "id": "L34gFVX5Qlcu",
        "outputId": "6a70c85d-acbe-4862-b93b-35bcb6a9a8f2",
        "colab": {
          "base_uri": "https://localhost:8080/",
          "height": 136
        }
      },
      "source": [
        "lm(profit99 ~ tenure99, data = df_pilgrim)"
      ],
      "execution_count": null,
      "outputs": [
        {
          "output_type": "display_data",
          "data": {
            "text/plain": [
              "\n",
              "Call:\n",
              "lm(formula = profit99 ~ tenure99, data = df_pilgrim)\n",
              "\n",
              "Coefficients:\n",
              "(Intercept)     tenure99  \n",
              "     172.96        11.73  \n"
            ]
          },
          "metadata": {
            "tags": []
          }
        }
      ]
    },
    {
      "cell_type": "markdown",
      "metadata": {
        "id": "DFwfq3CAQlc3"
      },
      "source": [
        "Run the linear model again, this time using an assignment operator to save the output to a new data object called \"model_1\". Note that you will not see any output from model_1 until you call for a summary of this output in the subsequent cell."
      ]
    },
    {
      "cell_type": "code",
      "metadata": {
        "id": "TYsEV-LhQlc4"
      },
      "source": [
        "model_1 <- lm(profit99 ~ tenure99, data = df_pilgrim)"
      ],
      "execution_count": null,
      "outputs": []
    },
    {
      "cell_type": "markdown",
      "metadata": {
        "id": "9G8Yqz2RQlc8"
      },
      "source": [
        "View the output of model_1 by \"calling\" it with the summary command:"
      ]
    },
    {
      "cell_type": "code",
      "metadata": {
        "id": "6ALr49hcQlc9",
        "outputId": "72627e6e-eaf6-4fa8-ac46-7798f8b53934",
        "colab": {
          "base_uri": "https://localhost:8080/",
          "height": 323
        }
      },
      "source": [
        "summary(model_1)"
      ],
      "execution_count": null,
      "outputs": [
        {
          "output_type": "display_data",
          "data": {
            "text/plain": [
              "\n",
              "Call:\n",
              "lm(formula = profit99 ~ tenure99, data = df_pilgrim)\n",
              "\n",
              "Residuals:\n",
              "    Min      1Q  Median      3Q     Max \n",
              "-603.30 -266.15  -81.75  232.37 1481.53 \n",
              "\n",
              "Coefficients:\n",
              "            Estimate Std. Error t value Pr(>|t|)   \n",
              "(Intercept)  172.962     53.451   3.236  0.00148 **\n",
              "tenure99      11.730      3.697   3.173  0.00181 **\n",
              "---\n",
              "Signif. codes:  0 ‘***’ 0.001 ‘**’ 0.01 ‘*’ 0.05 ‘.’ 0.1 ‘ ’ 1\n",
              "\n",
              "Residual standard error: 361.3 on 159 degrees of freedom\n",
              "Multiple R-squared:  0.05955,\tAdjusted R-squared:  0.05364 \n",
              "F-statistic: 10.07 on 1 and 159 DF,  p-value: 0.00181\n"
            ]
          },
          "metadata": {
            "tags": []
          }
        }
      ]
    },
    {
      "cell_type": "markdown",
      "metadata": {
        "id": "TCH6mdK8QldB"
      },
      "source": [
        "## Section 6: Plot two variables and add a regression line           \n",
        "Add a regression line to a scatterplot of data. "
      ]
    },
    {
      "cell_type": "code",
      "metadata": {
        "id": "r8wfSpvIQldC",
        "outputId": "ad546f6c-8499-4521-878b-4dae90a7e5e8",
        "colab": {
          "base_uri": "https://localhost:8080/",
          "height": 437
        }
      },
      "source": [
        "plot(df_pilgrim$tenure99, df_pilgrim$profit99)\n",
        "abline(lm(profit99 ~ tenure99, data = df_pilgrim))"
      ],
      "execution_count": null,
      "outputs": [
        {
          "output_type": "display_data",
          "data": {
            "image/png": "[encoded data removed]",
            "text/plain": [
              "plot without title"
            ]
          },
          "metadata": {
            "tags": [],
            "image/png": {
              "width": 420,
              "height": 420
            }
          }
        }
      ]
    },
    {
      "cell_type": "markdown",
      "metadata": {
        "id": "GAfv2vvGaTMu"
      },
      "source": [
        "## Section 7: Now with packages! \n",
        "\n",
        "Now let's do the same things as above but with the dplyr package! From section 0, you may recall that we loaded the dplyr package for efficiency.\n",
        "\n",
        "## What is a package? \n",
        "In R, packages are built on top of base R (what we did before) to allow for easier computation in certain specialized areas. \n",
        "\n",
        "You can think of base R as a four-function calculator and packages as applications that expand the calculator's abilities. For example, a graphing package, when installed onto the four-function calculator, would give it the ability to graph.\n",
        "\n",
        "To load a package, we use the following code:\n",
        "```\n",
        "library(package-name)\n",
        "```\n",
        "If we haven't installed the package yet, we use the follwoing command to install it.\n",
        "```\n",
        "install.packages(\"package-name\")\n",
        "```\n",
        "So to install and load dplyer:\n",
        "```\n",
        "install.packages(\"dplyr\")\n",
        "library(dplyr)\n",
        "```\n",
        "## What is the dplyr package? \n",
        "When it comes to analytics, most academics (and business people!) use the R dplyr package to work with data frames. This is because dplyr is much more efficient at doing certain things. We will explore these things below. "
      ]
    },
    {
      "cell_type": "code",
      "metadata": {
        "id": "xqWCPjTRaQHT"
      },
      "source": [
        ""
      ],
      "execution_count": null,
      "outputs": []
    },
    {
      "cell_type": "markdown",
      "metadata": {
        "id": "mEcLvWqPQldJ"
      },
      "source": [
        "## Section 8: Write your own code           \n",
        "Try typing \"boxplot(df_pilgrim$profit99)\" in the code cell below, and running it. "
      ]
    },
    {
      "cell_type": "code",
      "metadata": {
        "id": "Fv6QU1rxQldK"
      },
      "source": [
        ""
      ],
      "execution_count": null,
      "outputs": []
    },
    {
      "cell_type": "markdown",
      "metadata": {
        "id": "3nN7fed0QldO"
      },
      "source": [
        "Feel free to try other commands and adding cells to get a feel for how a Jupyter notebook works. We will discuss this notebook in Wednesday's class.  "
      ]
    },
    {
      "cell_type": "code",
      "metadata": {
        "id": "n-IMoChrQldQ"
      },
      "source": [
        ""
      ],
      "execution_count": null,
      "outputs": []
    }
  ]
}