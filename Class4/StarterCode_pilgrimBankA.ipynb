{
 "cells": [
  {
   "cell_type": "markdown",
   "metadata": {},
   "source": [
    "# Pilgrim Bank (A) Starter Code"
   ]
  },
  {
   "cell_type": "markdown",
   "metadata": {},
   "source": [
    "### Purpose:\n",
    "This jupyter notebook will help you prepare the Pilgrim Bank (A) case for class discussion. Jupyter notebooks are useful for combining normal text with R code and output (or other types of code, such as Python). For example, you can use Jupyter Notebooks when creating reports that contain analyses, or when describing and documenting your analyses so others can understand what you've done."
   ]
  },
  {
   "cell_type": "markdown",
   "metadata": {},
   "source": [
    "### Jupyter Notebooks:\n",
    "Jupyter Notebooks are organized into **cells**. There are two primary cell types in Jupyter: **code cells** and **markdown cells**.      \n",
    "\n",
    "The text you're reading now is in a **markdown cell**. Markdown cells contain human language text and allow you to intersperse your R code with written commentary. To create a new markdown cell, go to the menu above, click the \"+\" button, and then use the nearby dropdown menu to switch from \"Code\" to \"Markdown\". After entering text in a markdown cell, you can click the \"Run\" button above to make your text appear nicely formatted and easy to read, just like this cell you're reading now.         \n",
    "\n",
    "Below you'll also see slightly shaded cells with \"In[ ]\" to the left of them. These are **code cells**. The \"In[ ]\" before a code cell tells you this is code input. When you run a code cell, the code's corresponding output will appear directly below your code. You can run a cell by pressing the \"Run\" button in the menu above or by hitting \"Shift + Enter\" (Mac) or \"Ctrl + Enter\" (PC). You can edit and run the code in a code cell as many times as you'd like, and the new output will simply replace the previous output below the code. This feature allows you to try different commands, models, or other analyses and immediately see the output as you go. To add a new code cell, select the \"+\" button above, which by default adds a code cell. "
   ]
  },
  {
   "cell_type": "markdown",
   "metadata": {},
   "source": [
    "You can insert a new cell on any line using any of three methods: \n",
    "* click the \"+\" in the menu above\n",
    "* click the Insert option in the menu above\n",
    "* use the keyboard shortcut \"Esc + A\" or \"Esc + B\" to insert a cell above or below respectively"
   ]
  },
  {
   "cell_type": "markdown",
   "metadata": {},
   "source": [
    "If you're interested in learning more about using Jupyter notebook shortcuts, click \"Help\" in the menu above and navigate to \"Keyboard Shortcuts\". For additional information, here is a great resource: https://towardsdatascience.com/jypyter-notebook-shortcuts-bf0101a98330"
   ]
  },
  {
   "cell_type": "markdown",
   "metadata": {},
   "source": [
    "### Class Assignment\n",
    "\n",
    "To prepare for our class discussion of the Pilgrim Bank (A) case, you should run the code provided in this notebook, prepare to discuss the output, and experiment with any additional analyses that you think will help to inform the issues in the case."
   ]
  },
  {
   "cell_type": "markdown",
   "metadata": {},
   "source": [
    "### Summary of Notebook:      \n",
    "\n",
    "**Section 1: Load data**     \n",
    "Load Pilgrim Bank (A) data into R.        \n",
    "\n",
    "**Section 2: Summarize and describe the data**     \n",
    "Explore the Pilgrim Bank (A) data by performing a series of summary and description commands.         \n",
    "\n",
    "**Section 3: Visualize the data**    \n",
    "Use histograms, boxplots and scatterplots to visualize key variables.     \n",
    "\n",
    "**Section 4: Begin testing relationships between variables**     \n",
    "Use correlations and t-tests to examine relationships between variables.        \n",
    "\n",
    "**Section 5: Understanding profit**     \n",
    "Use linear regression to test the drivers of customer profitability.     \n",
    "\n",
    "**Section 6: Your own analyses**    \n",
    "Use this section to try your own analyses to better answer the questions outlined in the Pilgrim Bank A case. "
   ]
  },
  {
   "cell_type": "markdown",
   "metadata": {},
   "source": [
    "## Section 1: Load data"
   ]
  },
  {
   "cell_type": "markdown",
   "metadata": {},
   "source": [
    "Load the Pilgrim Bank (A) data into R as a dataframe named \"df_pilgrim\" ."
   ]
  },
  {
   "cell_type": "code",
   "execution_count": null,
   "metadata": {},
   "outputs": [],
   "source": [
    "df_pilgrim <- read.csv(\"LPA20_Class4_PilgrimBank_A_Data.csv\") "
   ]
  },
  {
   "cell_type": "markdown",
   "metadata": {},
   "source": [
    "After running the cell above, a dataframe called df_pilgrim should now be loaded in your R Environment. This dataframe should have 31634 observations of 7 variables. You can check to see the structure of your full dataframe by loading the first 10 rows of the dataframe using the 'head' command. It is best practice in jupyter notebooks to use the 'head' command after you have loaded a new dataframe in order to ensure the dataset has been loaded correctly. "
   ]
  },
  {
   "cell_type": "code",
   "execution_count": null,
   "metadata": {
    "scrolled": true
   },
   "outputs": [],
   "source": [
    "head(df_pilgrim, 10)"
   ]
  },
  {
   "cell_type": "markdown",
   "metadata": {},
   "source": [
    "Another useful way to view the structure of the dataframe is with the 'str' command. Note that this output provides the variable type, for example integers and numeric variables (the latter have decimal places). "
   ]
  },
  {
   "cell_type": "code",
   "execution_count": null,
   "metadata": {},
   "outputs": [],
   "source": [
    "str(df_pilgrim)"
   ]
  },
  {
   "cell_type": "markdown",
   "metadata": {},
   "source": [
    "## Section 2: Summarize and describe the data"
   ]
  },
  {
   "cell_type": "markdown",
   "metadata": {},
   "source": [
    "Summarize the variables in the dataframe:"
   ]
  },
  {
   "cell_type": "code",
   "execution_count": null,
   "metadata": {},
   "outputs": [],
   "source": [
    "summary(df_pilgrim)"
   ]
  },
  {
   "cell_type": "markdown",
   "metadata": {},
   "source": [
    "### Summarizing Profit\n",
    "\n",
    "The Pilgrim Bank (A) case asks about customer profitability. Let's get a better understanding of the profit variable using some commands in base R.      \n",
    "\n",
    "There are many simple commands to quickly describe a single variable in R. Examples include mean, min, max, sd, range, and quantile. To run a command on a single variable, first specify the command, then in parentheses specify the dataframe, then type \"$\" to connect the dataframe to a subsequent variable, and then type the variable name.        \n",
    "\n",
    "In general, to reference a single variable in R:     \n",
    "* dataframe$variable_name"
   ]
  },
  {
   "cell_type": "markdown",
   "metadata": {},
   "source": [
    "Find the mean of the profit variable:"
   ]
  },
  {
   "cell_type": "code",
   "execution_count": null,
   "metadata": {},
   "outputs": [],
   "source": [
    "mean(df_pilgrim$profit99)   "
   ]
  },
  {
   "cell_type": "markdown",
   "metadata": {},
   "source": [
    "Find the standard deviation of profit:"
   ]
  },
  {
   "cell_type": "code",
   "execution_count": null,
   "metadata": {},
   "outputs": [],
   "source": [
    "sd(df_pilgrim$profit99) "
   ]
  },
  {
   "cell_type": "markdown",
   "metadata": {},
   "source": [
    "Find the range of the profit variable:"
   ]
  },
  {
   "cell_type": "code",
   "execution_count": null,
   "metadata": {},
   "outputs": [],
   "source": [
    "range(df_pilgrim$profit99)"
   ]
  },
  {
   "cell_type": "markdown",
   "metadata": {},
   "source": [
    "Find the quartiles of the profit variable:"
   ]
  },
  {
   "cell_type": "code",
   "execution_count": null,
   "metadata": {},
   "outputs": [],
   "source": [
    "quantile(df_pilgrim$profit99)"
   ]
  },
  {
   "cell_type": "markdown",
   "metadata": {},
   "source": [
    "## Section 3: Visualize the data\n",
    "You can begin by examining the distribution of customers for two demographic variables, age and income."
   ]
  },
  {
   "cell_type": "markdown",
   "metadata": {},
   "source": [
    "Create a histogram to explore the frequencies of each age category, specifying the main heading for the output and the label for the x-axis:"
   ]
  },
  {
   "cell_type": "code",
   "execution_count": null,
   "metadata": {
    "scrolled": false
   },
   "outputs": [],
   "source": [
    "hist(df_pilgrim$age99, main = \"Histogram of Age Buckets\", xlab = \"Age\") "
   ]
  },
  {
   "cell_type": "markdown",
   "metadata": {},
   "source": [
    "Recall that the age categories are defined as follows:  \n",
    "* 1 = less than 15 years\n",
    "* 2 = 15-24 years\n",
    "* 3 = 25-34 years\n",
    "* 4 = 35-44 years\n",
    "* 5 = 45-54 years \n",
    "* 6 = 55-64 years \n",
    "* 7 = 65 years and older"
   ]
  },
  {
   "cell_type": "markdown",
   "metadata": {},
   "source": [
    "Create a histogram of the income categories:"
   ]
  },
  {
   "cell_type": "code",
   "execution_count": null,
   "metadata": {},
   "outputs": [],
   "source": [
    "hist(df_pilgrim$income99, main = \"Histogram of Income Buckets\", xlab = \"Income\") "
   ]
  },
  {
   "cell_type": "markdown",
   "metadata": {},
   "source": [
    "Reminder of the income categories: \n",
    "* 1 = less than `$15,000`\n",
    "* 2 =  `$15,000- $19,999`\n",
    "* 3 =  `$20,000- $29,999`\n",
    "* 4 =  `$30,000- $39,999`\n",
    "* 5 =  `$40,000- $49,999`\n",
    "* 6 =  `$50,000- $74,999`\n",
    "* 7 = `$75,000-$99,999`\n",
    "* 8 = `$100,000-$124,999` \n",
    "* 9 = `$125,000 and more`"
   ]
  },
  {
   "cell_type": "markdown",
   "metadata": {},
   "source": [
    "Histogram to display the frequency distribution of the profit99 observations:"
   ]
  },
  {
   "cell_type": "code",
   "execution_count": null,
   "metadata": {},
   "outputs": [],
   "source": [
    "hist(df_pilgrim$profit99, main = \"Histogram of Profit for 1999\", xlab = \"Profit\")"
   ]
  },
  {
   "cell_type": "markdown",
   "metadata": {},
   "source": [
    "You can also adjust the number of breakpoints, which determines how many bars appear in the histogram:"
   ]
  },
  {
   "cell_type": "code",
   "execution_count": null,
   "metadata": {},
   "outputs": [],
   "source": [
    "hist(df_pilgrim$profit99, breaks = 20, main = \"Histogram of Profit for 1999\", xlab = \"Profit\")"
   ]
  },
  {
   "cell_type": "markdown",
   "metadata": {},
   "source": [
    "A boxplot is another way to display the distribution of a variable. The box is bounded by the 25th & 75th quartiles, with the median inside the box:"
   ]
  },
  {
   "cell_type": "code",
   "execution_count": null,
   "metadata": {},
   "outputs": [],
   "source": [
    "boxplot(df_pilgrim$profit99, horizontal = TRUE)"
   ]
  },
  {
   "cell_type": "markdown",
   "metadata": {},
   "source": [
    "You can start looking at relationships between two variables with a scatterplot:"
   ]
  },
  {
   "cell_type": "code",
   "execution_count": null,
   "metadata": {},
   "outputs": [],
   "source": [
    "plot(df_pilgrim$tenure99, df_pilgrim$profit99, xlab = \"Tenure\", ylab = \"Profit\")"
   ]
  },
  {
   "cell_type": "markdown",
   "metadata": {},
   "source": [
    "You can make the observations appear smaller in the plot. In the command below, cex is optional and stands for \"character extension\"; the default size is cex=1."
   ]
  },
  {
   "cell_type": "code",
   "execution_count": null,
   "metadata": {},
   "outputs": [],
   "source": [
    "plot(df_pilgrim$tenure99, df_pilgrim$profit99, cex = .2, xlab = \"Tenure\", ylab = \"Profit\") "
   ]
  },
  {
   "cell_type": "markdown",
   "metadata": {},
   "source": [
    "## Section 4: Begin testing relationships between variables"
   ]
  },
  {
   "cell_type": "markdown",
   "metadata": {},
   "source": [
    "### Examining the relationship between tenure99 and profit99:"
   ]
  },
  {
   "cell_type": "markdown",
   "metadata": {},
   "source": [
    "Note that tenure99 is a continuous variable ranging in years. To find the spread of this variable, use the \"range\" command in R."
   ]
  },
  {
   "cell_type": "code",
   "execution_count": null,
   "metadata": {},
   "outputs": [],
   "source": [
    "range(df_pilgrim$tenure99)"
   ]
  },
  {
   "cell_type": "markdown",
   "metadata": {},
   "source": [
    "What is the correlation between tenure99 and profit99?"
   ]
  },
  {
   "cell_type": "code",
   "execution_count": null,
   "metadata": {},
   "outputs": [],
   "source": [
    "cor.test(df_pilgrim$tenure99, df_pilgrim$profit99)"
   ]
  },
  {
   "cell_type": "markdown",
   "metadata": {},
   "source": [
    "### Correlation Matrix: Relationship between all Pilgrim Bank variables"
   ]
  },
  {
   "cell_type": "markdown",
   "metadata": {},
   "source": [
    "Generate a correlation matrix with all variables in the dataframe:"
   ]
  },
  {
   "cell_type": "code",
   "execution_count": null,
   "metadata": {},
   "outputs": [],
   "source": [
    "cor(df_pilgrim)"
   ]
  },
  {
   "cell_type": "markdown",
   "metadata": {},
   "source": [
    "The same correlation matrix, with values rounded to 3 digits:"
   ]
  },
  {
   "cell_type": "code",
   "execution_count": null,
   "metadata": {},
   "outputs": [],
   "source": [
    "round(cor(df_pilgrim), digits=3)"
   ]
  },
  {
   "cell_type": "markdown",
   "metadata": {},
   "source": [
    "### Summarize the data for the online and offline customers separately"
   ]
  },
  {
   "cell_type": "markdown",
   "metadata": {},
   "source": [
    "How many customers are not online (online=0) versus online (online=1)?"
   ]
  },
  {
   "cell_type": "code",
   "execution_count": null,
   "metadata": {},
   "outputs": [],
   "source": [
    "table(df_pilgrim$online99)"
   ]
  },
  {
   "cell_type": "markdown",
   "metadata": {},
   "source": [
    "What is the mean profit in each of these groups of customers?"
   ]
  },
  {
   "cell_type": "code",
   "execution_count": null,
   "metadata": {},
   "outputs": [],
   "source": [
    "mean(df_pilgrim$profit99[df_pilgrim$online99==0])\n",
    "mean(df_pilgrim$profit99[df_pilgrim$online99==1])"
   ]
  },
  {
   "cell_type": "markdown",
   "metadata": {},
   "source": [
    "Another way to get mean profitability grouped by online = 1 and not online = 0:"
   ]
  },
  {
   "cell_type": "code",
   "execution_count": null,
   "metadata": {},
   "outputs": [],
   "source": [
    "by(df_pilgrim$profit99, df_pilgrim$online99, mean)"
   ]
  },
  {
   "cell_type": "markdown",
   "metadata": {},
   "source": [
    "Is the difference in profit between these two groups, online and not online, significantly different?"
   ]
  },
  {
   "cell_type": "code",
   "execution_count": null,
   "metadata": {},
   "outputs": [],
   "source": [
    "t.test(profit99 ~ online99, data = df_pilgrim, var.equal = TRUE)"
   ]
  },
  {
   "cell_type": "markdown",
   "metadata": {},
   "source": [
    "To get help within jupyter for any function use a \"?\" before the command. A description of the command will appear in the bottom half of your jupyter tab."
   ]
  },
  {
   "cell_type": "code",
   "execution_count": null,
   "metadata": {},
   "outputs": [],
   "source": [
    "?t.test"
   ]
  },
  {
   "cell_type": "markdown",
   "metadata": {},
   "source": [
    "## Section 5: Understanding Profit"
   ]
  },
  {
   "cell_type": "markdown",
   "metadata": {},
   "source": [
    "Run a linear model (also called a linear regression) to test whether online99 is a significant predictor of profit99. Store the results of the linear model in a new data object called \"model_1\". You will now be able to see the results of your regression by typing model_1 in a code cell, or you can summarize your model_1 regression results by typing summary(model_1) in a code cell as well. "
   ]
  },
  {
   "cell_type": "markdown",
   "metadata": {},
   "source": [
    "Run a linear regression model (using the 'lm' command) to test whether online99 predicts profit99:"
   ]
  },
  {
   "cell_type": "code",
   "execution_count": null,
   "metadata": {},
   "outputs": [],
   "source": [
    "model_1 <- lm(profit99 ~ online99, data = df_pilgrim)"
   ]
  },
  {
   "cell_type": "markdown",
   "metadata": {},
   "source": [
    "To view the summarized output that is now stored in model_1:"
   ]
  },
  {
   "cell_type": "code",
   "execution_count": null,
   "metadata": {},
   "outputs": [],
   "source": [
    "summary(model_1)"
   ]
  },
  {
   "cell_type": "markdown",
   "metadata": {},
   "source": [
    "How does the ouput of the regression above compare to the result of the previous t-test of whether profit99 differs by online99?"
   ]
  },
  {
   "cell_type": "markdown",
   "metadata": {},
   "source": [
    "To see the confidence intervals for the regression coefficients:"
   ]
  },
  {
   "cell_type": "code",
   "execution_count": null,
   "metadata": {},
   "outputs": [],
   "source": [
    "confint(model_1)"
   ]
  },
  {
   "cell_type": "markdown",
   "metadata": {},
   "source": [
    "What happens when we add tenure99 to the linear model? "
   ]
  },
  {
   "cell_type": "code",
   "execution_count": null,
   "metadata": {},
   "outputs": [],
   "source": [
    "model_2 <- lm(profit99 ~ online99 + tenure99, data = df_pilgrim)\n",
    "summary(model_2)"
   ]
  },
  {
   "cell_type": "markdown",
   "metadata": {},
   "source": [
    "## Section 6: Your own analyses         \n",
    "\n",
    "* How do the results of model_2 compare to model_1?  What is your interpretation?  \n",
    "* What should Pilgrim Bank do based on these analyses?\n",
    "* What other models would you run to inform your recommendations?  \n",
    "\n",
    "You can try other models simply by adding more variables to the linear model above after or instead of tenure99 (e.g., + age99 + income99 + etc.)"
   ]
  },
  {
   "cell_type": "code",
   "execution_count": null,
   "metadata": {},
   "outputs": [],
   "source": []
  }
 ],
 "metadata": {
  "kernelspec": {
   "display_name": "R",
   "language": "R",
   "name": "ir"
  },
  "language_info": {
   "codemirror_mode": "r",
   "file_extension": ".r",
   "mimetype": "text/x-r-source",
   "name": "R",
   "pygments_lexer": "r",
   "version": "3.4.4"
  }
 },
 "nbformat": 4,
 "nbformat_minor": 2
}
